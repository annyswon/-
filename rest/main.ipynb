{
 "cells": [
  {
   "cell_type": "code",
   "execution_count": null,
   "metadata": {},
   "outputs": [
    {
     "name": "stdout",
     "output_type": "stream",
     "text": [
      " * Serving Flask app \"__main__\" (lazy loading)\n",
      " * Environment: production\n",
      "   WARNING: This is a development server. Do not use it in a production deployment.\n",
      "   Use a production WSGI server instead.\n",
      " * Debug mode: off\n"
     ]
    },
    {
     "name": "stderr",
     "output_type": "stream",
     "text": [
      " * Running on http://0.0.0.0:5000/ (Press CTRL+C to quit)\n",
      "127.0.0.1 - - [24/Oct/2020 11:09:25] \"\u001b[37mGET /id_check_in/2 HTTP/1.1\u001b[0m\" 200 -\n",
      "127.0.0.1 - - [24/Oct/2020 11:09:29] \"\u001b[37mGET /id_check_in/3 HTTP/1.1\u001b[0m\" 200 -\n",
      "127.0.0.1 - - [24/Oct/2020 11:09:42] \"\u001b[37mGET /id_check_in/2 HTTP/1.1\u001b[0m\" 200 -\n"
     ]
    }
   ],
   "source": [
    "from flask import Flask, json, jsonify\n",
    "from settings import *\n",
    "\n",
    "app = Flask(__name__)\n",
    "\n",
    "def check(id) -> str: \n",
    "\twith open('id_check_in.json') as ch:\n",
    "\t\tusers_list = json.load(ch)\n",
    "\tid = str(id)\n",
    "\tfor user in users_list:\n",
    "\t\tif user[\"id\"] == id:\n",
    "\t\t\treturn 'Пользоатель найден'\n",
    "\treturn 'Пользователя нет в списке'\n",
    "\n",
    "@app.route('/id_check_in/', methods=['GET'])\n",
    "def get_list():\n",
    "\treturn jsonify(users_list)\n",
    "\n",
    "@app.route('/id_check_in/<id>', methods=['GET'])\n",
    "def get_user(id):\n",
    "\treturn check(id)\n",
    "\n",
    "if __name__ == '__main__':\n",
    "\tapp.run(host = REST_HOST, port = REST_PORT)"
   ]
  },
  {
   "cell_type": "code",
   "execution_count": null,
   "metadata": {},
   "outputs": [],
   "source": []
  },
  {
   "cell_type": "code",
   "execution_count": null,
   "metadata": {},
   "outputs": [],
   "source": []
  }
 ],
 "metadata": {
  "kernelspec": {
   "display_name": "Python 3",
   "language": "python",
   "name": "python3"
  },
  "language_info": {
   "codemirror_mode": {
    "name": "ipython",
    "version": 3
   },
   "file_extension": ".py",
   "mimetype": "text/x-python",
   "name": "python",
   "nbconvert_exporter": "python",
   "pygments_lexer": "ipython3",
   "version": "3.7.6"
  }
 },
 "nbformat": 4,
 "nbformat_minor": 4
}
